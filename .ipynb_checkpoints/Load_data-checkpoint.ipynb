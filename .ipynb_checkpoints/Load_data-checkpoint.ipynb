{
 "cells": [
  {
   "cell_type": "markdown",
   "metadata": {},
   "source": [
    "# Load and Clean Data\n",
    "This function loads test and training data for the Madelon and Gisett datasets and prepares them for classification.\n"
   ]
  },
  {
   "cell_type": "code",
   "execution_count": 2,
   "metadata": {},
   "outputs": [],
   "source": [
    "import numpy as np\n",
    "import pandas as pd"
   ]
  },
  {
   "cell_type": "code",
   "execution_count": 3,
   "metadata": {},
   "outputs": [],
   "source": [
    "def load_data(train,train_labels,test,test_labels):\n",
    "    #Load and clean  training data\n",
    "    train_data = pd.read_csv(train, delimiter=' ',header=None)\n",
    "    #remove empty columns\n",
    "    train_data = train_data.dropna(axis='columns')\n",
    "    \n",
    "    \n",
    "    train_mean = np.mean(train_data,axis=0)\n",
    "    \n",
    "    train_std= np.std(train_data,axis=0)\n",
    "    \n",
    "    #find columns with constant value for all obs\n",
    "    col_to_drop = train_std==0\n",
    "    \n",
    "    \n",
    "    #Normalise data\n",
    "    X_train = (train_data-train_mean)/train_std\n",
    "    \n",
    "    #drop constant columns\n",
    "    X_train = X_train.drop(X_train.columns[col_to_drop],axis=1)\n",
    "    \n",
    "    #add column of ones for intrcept term\n",
    "    X_train = np.c_[np.ones(X_train.shape[0]),X_train]\n",
    "   \n",
    "    #Load training labels\n",
    "    y_train = pd.read_csv(train_labels, delimiter=' ',header=None) \n",
    "    y_train = (y_train==1)\n",
    "\n",
    "    \n",
    "    #Load and clean testing data\n",
    "    \n",
    "    #Load test dataset\n",
    "    test_data = pd.read_csv(test, delimiter=' ',header=None)\n",
    "    test_data = test_data.dropna(axis='columns')\n",
    "    \n",
    "    #Apply normalization using mean and standard deviation of the training set\n",
    "    X_test = (test_data-train_mean)/train_std\n",
    "    \n",
    "    #drop columns dropped from training set                \n",
    "    X_test = X_test.drop(X_test.columns[col_to_drop],axis=1)\n",
    "    \n",
    "    #add column of ones for intercept\n",
    "    X_test = np.c_[np.ones(X_test.shape[0]),X_test]\n",
    "    \n",
    "    #Load test_labels\n",
    "    y_test = pd.read_csv(test_labels, delimiter=' ',header=None)\n",
    "    y_test = y_test==1\n",
    "    return X_train,y_train,X_test,y_test"
   ]
  },
  {
   "cell_type": "code",
   "execution_count": null,
   "metadata": {},
   "outputs": [],
   "source": []
  }
 ],
 "metadata": {
  "kernelspec": {
   "display_name": "Python 3",
   "language": "python",
   "name": "python3"
  },
  "language_info": {
   "codemirror_mode": {
    "name": "ipython",
    "version": 3
   },
   "file_extension": ".py",
   "mimetype": "text/x-python",
   "name": "python",
   "nbconvert_exporter": "python",
   "pygments_lexer": "ipython3",
   "version": "3.6.5"
  }
 },
 "nbformat": 4,
 "nbformat_minor": 2
}
