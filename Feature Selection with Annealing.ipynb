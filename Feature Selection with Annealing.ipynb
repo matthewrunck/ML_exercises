{
 "cells": [
  {
   "cell_type": "markdown",
   "metadata": {},
   "source": [
    "### Feature Selection with Annealing\n",
    "This algorithm improves performance by selecting the k most influential features and discarding the rest.  \n",
    "This is done with an annealing schedle $\\{M_e\\}$, which is a sequence that detemrines how many features are dropped at each set.\n",
    "At each iteration e, the weights are updated with gradient descent, and the $M_e$ features with the least significant weights are dropped.\n",
    "The annealing schedule used here is: $$M_e = k + (M-k)\\times max(0,\\frac{N-2e}{2e\\mu+N})$$\n",
    "where N is the total number of iterations, M is the original number of features, k is the desired number of features in the final model, and $\\mu$ is a parameter that controls the \"cooling rate\".\n",
    "Feature Selection with Annealing for Computer\n",
    "Vision and Big Data Learning\n",
    "Adrian Barbu, Yiyuan She, Liangjing Ding, Gary Gramajo\n",
    "available at https://arxiv.org/abs/1310.2880"
   ]
  },
  {
   "cell_type": "code",
   "execution_count": 1,
   "metadata": {},
   "outputs": [],
   "source": [
    "import numpy as np\n",
    "import pandas as pd\n",
    "from matplotlib import pyplot as plt\n",
    "from Load_data import load_data"
   ]
  },
  {
   "cell_type": "markdown",
   "metadata": {},
   "source": [
    "For this example we will use the 'Lorenz loss' function: $$l(x) = \\begin{cases}0 & x> 1\\\\ln(1+(x-1)^2) & x\\leq 1\\end{cases}$$ "
   ]
  },
  {
   "cell_type": "code",
   "execution_count": 2,
   "metadata": {},
   "outputs": [],
   "source": [
    "def Lorenz(x):\n",
    "    L = np.nan_to_num(np.log(1+(x[x < 1]-1)**2))\n",
    "    return L"
   ]
  },
  {
   "cell_type": "markdown",
   "metadata": {},
   "source": [
    "In addition to the Lorenz loss, we incude an $L^2$ regularisation penalty $p(x) = s\\sum^m_i x_i^2$, so the final loss is \n",
    "$$L(y,X,\\beta)=\\sum_i^N l(y_ix_i^T\\beta) + s\\sum_j^M \\beta_j^2$$"
   ]
  },
  {
   "cell_type": "code",
   "execution_count": 3,
   "metadata": {},
   "outputs": [],
   "source": [
    "def Loss(y,X,b,s):\n",
    "    bx = np.dot(X,b)\n",
    "    return np.sum(Lorenz(y*bx))/len(y) +s*(np.linalg.norm(b)**2)"
   ]
  },
  {
   "cell_type": "markdown",
   "metadata": {},
   "source": [
    "In order to minimize the loss, we need the gradient $$\\frac{\\delta L}{\\delta \\beta} = \\frac{X^T(2y*(y*X\\beta-1)}{1+(y*X\\beta)^2}+2s\\beta$$ where $y*X\\beta \\leq 1$ and 0 elsewhere. (here * means element-wise multiplication)"
   ]
  },
  {
   "cell_type": "code",
   "execution_count": 12,
   "metadata": {},
   "outputs": [],
   "source": [
    "def dfLoss(y,X,b,s):\n",
    "    ybx = np.array(y*np.dot(X,b))\n",
    "    ybx1 = np.ones(np.shape(ybx))\n",
    "    ybx1[ybx<= 1]=ybx[ybx<= 1]\n",
    "    delt =np.zeros(np.shape(b))\n",
    "    delt = np.dot(X.T,y*2*(ybx1-1)/(1+(ybx1-1)**2))/len(y) + 2*s*b\n",
    "    return delt.astype(float)"
   ]
  },
  {
   "cell_type": "code",
   "execution_count": 13,
   "metadata": {},
   "outputs": [],
   "source": [
    "#load training and test data\n",
    "train,train_label,test,test_label=load_data(\"Data\\\\gisette_train.data\",\"Data\\\\gisette_train.labels\",\"Data\\\\gisette_valid.data\",\"Data\\\\gisette_valid.labels\")\n"
   ]
  },
  {
   "cell_type": "code",
   "execution_count": 14,
   "metadata": {},
   "outputs": [],
   "source": [
    "train_label[train_label==0]=-1\n",
    "test_label[test_label==0]=-1"
   ]
  },
  {
   "cell_type": "code",
   "execution_count": 15,
   "metadata": {},
   "outputs": [],
   "source": [
    "#Initialize parameters\n",
    "N=500\n",
    "eta = 5\n",
    "mu= 100\n",
    "s=0.001\n",
    "k=[10,30,100,300] # k is the final number of desired parameters\n",
    "lenk = len(k)\n",
    "#Calculate annealing schedule\n",
    "u=(N-2*np.arange(0,N))/(2*mu*np.arange(0,N)+N)\n",
    "v = np.zeros(N)\n",
    "v[u>=0]=u[u>=0]\n",
    "#initialize prediction and loss dataframes\n",
    "train_pred = np.zeros((len(train_label),lenk))\n",
    "test_pred = np.zeros((len(test_label),lenk))\n",
    "Losse = np.zeros((N,lenk))"
   ]
  },
  {
   "cell_type": "code",
   "execution_count": 41,
   "metadata": {},
   "outputs": [],
   "source": [
    "for j in range(lenk):   #loop through different values for k\n",
    "    beta =np.zeros((train.shape[1],1)) #initialise weights at zero\n",
    "    M1 = (k[j]+(np.shape(beta)[0]-k[j])*v).astype(int) #Get annealing schedule for ur vale of k\n",
    "    M = np.append(0,np.diff(M1)+1)\n",
    "\n",
    "    #At each step we remove all the discarded features from the design matrix to speed up calculation\n",
    "    train1=train\n",
    "    test1=test\n",
    "\n",
    "    for i in np.arange(0,N):\n",
    "        #Update weights by grad. descent\n",
    "        beta1 = beta - eta*dfLoss(train_label,train1,beta,s) \n",
    "        #Select features to keep based  on largest weights\n",
    "        keep = np.argsort(beta1**2,axis=0)[-M1[i]:].flatten()\n",
    "        #discard nwanted features from weights and design matrix\n",
    "        beta = beta1[keep]\n",
    "        train1=train1[:,keep]\n",
    "        test1=test1[:,keep]\n",
    "        #record loss\n",
    "        Losse[i,j]=Loss(train_label,train1,beta,s)\n",
    "    \n",
    "    #get predictions on train and test set\n",
    "    train_pred[:,j] = (np.dot(train1,beta)>0).flatten()\n",
    "    test_pred[:,j] = (np.dot(test1,beta)>0).flatten()\n",
    "    \n",
    "    \n",
    "    \n",
    "tl =np.tile(train_label==1,lenk)\n",
    "train_error = np.sum(train_pred!=tl,axis=0)/len(train_label)\n",
    "\n",
    "vl =np.tile(test_label==1,lenk)\n",
    "test_error = np.sum(test_pred!=vl,axis=0)/len(test_label)"
   ]
  },
  {
   "cell_type": "code",
   "execution_count": 43,
   "metadata": {},
   "outputs": [
    {
     "data": {
      "text/plain": [
       "<matplotlib.patches.FancyBboxPatch at 0x1ac802213c8>"
      ]
     },
     "execution_count": 43,
     "metadata": {},
     "output_type": "execute_result"
    },
    {
     "data": {
      "image/png": "[encoded data removed]",
      "text/plain": [
       "<Figure size 432x288 with 1 Axes>"
      ]
     },
     "metadata": {},
     "output_type": "display_data"
    }
   ],
   "source": [
    "#Plot the training and test error\n",
    "plt.plot(k,test_error,'b-',label='test error',)\n",
    "plt.plot(k,train_error,'r-',label='train error',)\n",
    "plt.title('Error rate vs. No. of features')\n",
    "plt.xlabel('No. of features')\n",
    "plt.ylabel('Error rate')\n",
    "leg = plt.legend(loc='best', ncol=2)\n",
    "leg.get_frame()"
   ]
  }
 ],
 "metadata": {
  "kernelspec": {
   "display_name": "Python 3",
   "language": "python",
   "name": "python3"
  },
  "language_info": {
   "codemirror_mode": {
    "name": "ipython",
    "version": 3
   },
   "file_extension": ".py",
   "mimetype": "text/x-python",
   "name": "python",
   "nbconvert_exporter": "python",
   "pygments_lexer": "ipython3",
   "version": "3.6.5"
  }
 },
 "nbformat": 4,
 "nbformat_minor": 2
}
